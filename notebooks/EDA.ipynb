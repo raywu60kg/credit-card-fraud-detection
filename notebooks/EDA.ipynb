{
 "cells": [
  {
   "cell_type": "markdown",
   "metadata": {},
   "source": [
    "# IEEE-CIS Fraud Detection"
   ]
  },
  {
   "cell_type": "markdown",
   "metadata": {},
   "source": [
    "## Summay\n",
    "This is a kaggle competition which want to build a fraud detection from online transaction data.\n",
    "It is a classic binary classification problem which predict the record is fraud or not.\n",
    "We can see more detail [here](https://www.kaggle.com/c/ieee-fraud-detection/overview) and we will face the following topic:\n",
    "\n",
    "- Imbalance data\n",
    "- Missing value\n",
    "- Modeling"
   ]
  },
  {
   "cell_type": "markdown",
   "metadata": {},
   "source": [
    "## Notation"
   ]
  },
  {
   "cell_type": "markdown",
   "metadata": {},
   "source": [
    "### Transaction Table \n",
    "- TransactionDT: timedelta from a given reference datetime (not an actual timestamp)\n",
    "- TransactionAMT: transaction payment amount in USD\n",
    "- ProductCD: product code, the product for each transaction\n",
    "- card1 - card6: payment card information, such as card type, card category, issue bank, country, etc.\n",
    "- addr: address\n",
    "- dist: distance\n",
    "- P_ and (R__) emaildomain: purchaser and recipient email domain\n",
    "- C1-C14: counting, such as how many addresses are found to be associated with the payment card, etc. The actual meaning is masked.\n",
    "- D1-D15: timedelta, such as days between previous transaction, etc.\n",
    "- M1-M9: match, such as names on card and address, etc.\n",
    "- Vxxx: Vesta engineered rich features, including ranking, counting, and other entity relations.\n",
    "\n",
    "Categorical Features:\n",
    "- ProductCD\n",
    "- card1 - card6\n",
    "- addr1, addr2\n",
    "- Pemaildomain Remaildomain\n",
    "- M1 - M9\n",
    "\n",
    "### Identity Table\n",
    "Variables in this table are identity information – network connection information (IP, ISP, Proxy, etc) and digital signature (UA/browser/os/version, etc) associated with transactions.\n",
    "\n",
    "\n",
    "They're collected by Vesta’s fraud protection system and digital security partners.\n",
    "(The field names are masked and pairwise dictionary will not be provided for privacy protection and contract agreement)\n",
    "\n",
    "Categorical Features:\n",
    "- DeviceType\n",
    "- DeviceInfo\n",
    "- id12 - id38"
   ]
  },
  {
   "cell_type": "markdown",
   "metadata": {},
   "source": [
    "## Check the Data"
   ]
  },
  {
   "cell_type": "markdown",
   "metadata": {},
   "source": [
    "### Overview"
   ]
  },
  {
   "cell_type": "code",
   "execution_count": 1,
   "metadata": {},
   "outputs": [],
   "source": [
    "import pandas as pd\n",
    "import matplotlib.pyplot as plt\n",
    "import matplotlib.image as mpimg\n",
    "import seaborn as sns\n",
    "from matplotlib_venn import venn2\n",
    "import numpy as np\n",
    "import lightgbm as lgb\n",
    "import gc\n",
    "from sklearn.metrics import average_precision_score\n",
    "from sklearn.model_selection import train_test_split\n",
    "from sklearn.metrics import confusion_matrix\n",
    "from sklearn.metrics import roc_curve, auc\n",
    "from sklearn.metrics import precision_recall_curve\n",
    "from sklearn.metrics import f1_score\n",
    "plt.style.use('ggplot')"
   ]
  },
  {
   "cell_type": "code",
   "execution_count": 2,
   "metadata": {},
   "outputs": [
    {
     "data": {
      "text/plain": [
       "42"
      ]
     },
     "execution_count": 2,
     "metadata": {},
     "output_type": "execute_result"
    }
   ],
   "source": [
    "train_identity = pd.read_csv(\"../data/train_identity.csv\")\n",
    "train_transaction = pd.read_csv(\"../data/train_transaction.csv\")\n",
    "test_identity = pd.read_csv(\"../data/test_identity.csv\")\n",
    "test_transaction = pd.read_csv(\"../data/test_transaction.csv\")\n",
    "train = pd.merge(train_transaction, train_identity, on='TransactionID', how='left')\n",
    "test = pd.merge(test_transaction, test_identity, on='TransactionID', how='left')\n",
    "del train_identity, train_transaction, test_identity, test_transaction\n",
    "gc.collect()"
   ]
  },
  {
   "cell_type": "code",
   "execution_count": 3,
   "metadata": {},
   "outputs": [
    {
     "name": "stdout",
     "output_type": "stream",
     "text": [
      "Training data shape (590540, 434)\n",
      "Training data columns name ['TransactionID', 'isFraud', 'TransactionDT', 'TransactionAmt', 'ProductCD', 'card1', 'card2', 'card3', 'card4', 'card5', 'card6', 'addr1', 'addr2', 'dist1', 'dist2', 'P_emaildomain', 'R_emaildomain', 'C1', 'C2', 'C3', 'C4', 'C5', 'C6', 'C7', 'C8', 'C9', 'C10', 'C11', 'C12', 'C13', 'C14', 'D1', 'D2', 'D3', 'D4', 'D5', 'D6', 'D7', 'D8', 'D9', 'D10', 'D11', 'D12', 'D13', 'D14', 'D15', 'M1', 'M2', 'M3', 'M4', 'M5', 'M6', 'M7', 'M8', 'M9', 'V1', 'V2', 'V3', 'V4', 'V5', 'V6', 'V7', 'V8', 'V9', 'V10', 'V11', 'V12', 'V13', 'V14', 'V15', 'V16', 'V17', 'V18', 'V19', 'V20', 'V21', 'V22', 'V23', 'V24', 'V25', 'V26', 'V27', 'V28', 'V29', 'V30', 'V31', 'V32', 'V33', 'V34', 'V35', 'V36', 'V37', 'V38', 'V39', 'V40', 'V41', 'V42', 'V43', 'V44', 'V45', 'V46', 'V47', 'V48', 'V49', 'V50', 'V51', 'V52', 'V53', 'V54', 'V55', 'V56', 'V57', 'V58', 'V59', 'V60', 'V61', 'V62', 'V63', 'V64', 'V65', 'V66', 'V67', 'V68', 'V69', 'V70', 'V71', 'V72', 'V73', 'V74', 'V75', 'V76', 'V77', 'V78', 'V79', 'V80', 'V81', 'V82', 'V83', 'V84', 'V85', 'V86', 'V87', 'V88', 'V89', 'V90', 'V91', 'V92', 'V93', 'V94', 'V95', 'V96', 'V97', 'V98', 'V99', 'V100', 'V101', 'V102', 'V103', 'V104', 'V105', 'V106', 'V107', 'V108', 'V109', 'V110', 'V111', 'V112', 'V113', 'V114', 'V115', 'V116', 'V117', 'V118', 'V119', 'V120', 'V121', 'V122', 'V123', 'V124', 'V125', 'V126', 'V127', 'V128', 'V129', 'V130', 'V131', 'V132', 'V133', 'V134', 'V135', 'V136', 'V137', 'V138', 'V139', 'V140', 'V141', 'V142', 'V143', 'V144', 'V145', 'V146', 'V147', 'V148', 'V149', 'V150', 'V151', 'V152', 'V153', 'V154', 'V155', 'V156', 'V157', 'V158', 'V159', 'V160', 'V161', 'V162', 'V163', 'V164', 'V165', 'V166', 'V167', 'V168', 'V169', 'V170', 'V171', 'V172', 'V173', 'V174', 'V175', 'V176', 'V177', 'V178', 'V179', 'V180', 'V181', 'V182', 'V183', 'V184', 'V185', 'V186', 'V187', 'V188', 'V189', 'V190', 'V191', 'V192', 'V193', 'V194', 'V195', 'V196', 'V197', 'V198', 'V199', 'V200', 'V201', 'V202', 'V203', 'V204', 'V205', 'V206', 'V207', 'V208', 'V209', 'V210', 'V211', 'V212', 'V213', 'V214', 'V215', 'V216', 'V217', 'V218', 'V219', 'V220', 'V221', 'V222', 'V223', 'V224', 'V225', 'V226', 'V227', 'V228', 'V229', 'V230', 'V231', 'V232', 'V233', 'V234', 'V235', 'V236', 'V237', 'V238', 'V239', 'V240', 'V241', 'V242', 'V243', 'V244', 'V245', 'V246', 'V247', 'V248', 'V249', 'V250', 'V251', 'V252', 'V253', 'V254', 'V255', 'V256', 'V257', 'V258', 'V259', 'V260', 'V261', 'V262', 'V263', 'V264', 'V265', 'V266', 'V267', 'V268', 'V269', 'V270', 'V271', 'V272', 'V273', 'V274', 'V275', 'V276', 'V277', 'V278', 'V279', 'V280', 'V281', 'V282', 'V283', 'V284', 'V285', 'V286', 'V287', 'V288', 'V289', 'V290', 'V291', 'V292', 'V293', 'V294', 'V295', 'V296', 'V297', 'V298', 'V299', 'V300', 'V301', 'V302', 'V303', 'V304', 'V305', 'V306', 'V307', 'V308', 'V309', 'V310', 'V311', 'V312', 'V313', 'V314', 'V315', 'V316', 'V317', 'V318', 'V319', 'V320', 'V321', 'V322', 'V323', 'V324', 'V325', 'V326', 'V327', 'V328', 'V329', 'V330', 'V331', 'V332', 'V333', 'V334', 'V335', 'V336', 'V337', 'V338', 'V339', 'id_01', 'id_02', 'id_03', 'id_04', 'id_05', 'id_06', 'id_07', 'id_08', 'id_09', 'id_10', 'id_11', 'id_12', 'id_13', 'id_14', 'id_15', 'id_16', 'id_17', 'id_18', 'id_19', 'id_20', 'id_21', 'id_22', 'id_23', 'id_24', 'id_25', 'id_26', 'id_27', 'id_28', 'id_29', 'id_30', 'id_31', 'id_32', 'id_33', 'id_34', 'id_35', 'id_36', 'id_37', 'id_38', 'DeviceType', 'DeviceInfo']\n"
     ]
    },
    {
     "data": {
      "text/html": [
       "<div>\n",
       "<style scoped>\n",
       "    .dataframe tbody tr th:only-of-type {\n",
       "        vertical-align: middle;\n",
       "    }\n",
       "\n",
       "    .dataframe tbody tr th {\n",
       "        vertical-align: top;\n",
       "    }\n",
       "\n",
       "    .dataframe thead th {\n",
       "        text-align: right;\n",
       "    }\n",
       "</style>\n",
       "<table border=\"1\" class=\"dataframe\">\n",
       "  <thead>\n",
       "    <tr style=\"text-align: right;\">\n",
       "      <th></th>\n",
       "      <th>TransactionID</th>\n",
       "      <th>isFraud</th>\n",
       "      <th>TransactionDT</th>\n",
       "      <th>TransactionAmt</th>\n",
       "      <th>ProductCD</th>\n",
       "      <th>card1</th>\n",
       "      <th>card2</th>\n",
       "      <th>card3</th>\n",
       "      <th>card4</th>\n",
       "      <th>card5</th>\n",
       "      <th>...</th>\n",
       "      <th>id_31</th>\n",
       "      <th>id_32</th>\n",
       "      <th>id_33</th>\n",
       "      <th>id_34</th>\n",
       "      <th>id_35</th>\n",
       "      <th>id_36</th>\n",
       "      <th>id_37</th>\n",
       "      <th>id_38</th>\n",
       "      <th>DeviceType</th>\n",
       "      <th>DeviceInfo</th>\n",
       "    </tr>\n",
       "  </thead>\n",
       "  <tbody>\n",
       "    <tr>\n",
       "      <th>0</th>\n",
       "      <td>2987000</td>\n",
       "      <td>0</td>\n",
       "      <td>86400</td>\n",
       "      <td>68.5</td>\n",
       "      <td>W</td>\n",
       "      <td>13926</td>\n",
       "      <td>NaN</td>\n",
       "      <td>150.0</td>\n",
       "      <td>discover</td>\n",
       "      <td>142.0</td>\n",
       "      <td>...</td>\n",
       "      <td>NaN</td>\n",
       "      <td>NaN</td>\n",
       "      <td>NaN</td>\n",
       "      <td>NaN</td>\n",
       "      <td>NaN</td>\n",
       "      <td>NaN</td>\n",
       "      <td>NaN</td>\n",
       "      <td>NaN</td>\n",
       "      <td>NaN</td>\n",
       "      <td>NaN</td>\n",
       "    </tr>\n",
       "    <tr>\n",
       "      <th>1</th>\n",
       "      <td>2987001</td>\n",
       "      <td>0</td>\n",
       "      <td>86401</td>\n",
       "      <td>29.0</td>\n",
       "      <td>W</td>\n",
       "      <td>2755</td>\n",
       "      <td>404.0</td>\n",
       "      <td>150.0</td>\n",
       "      <td>mastercard</td>\n",
       "      <td>102.0</td>\n",
       "      <td>...</td>\n",
       "      <td>NaN</td>\n",
       "      <td>NaN</td>\n",
       "      <td>NaN</td>\n",
       "      <td>NaN</td>\n",
       "      <td>NaN</td>\n",
       "      <td>NaN</td>\n",
       "      <td>NaN</td>\n",
       "      <td>NaN</td>\n",
       "      <td>NaN</td>\n",
       "      <td>NaN</td>\n",
       "    </tr>\n",
       "    <tr>\n",
       "      <th>2</th>\n",
       "      <td>2987002</td>\n",
       "      <td>0</td>\n",
       "      <td>86469</td>\n",
       "      <td>59.0</td>\n",
       "      <td>W</td>\n",
       "      <td>4663</td>\n",
       "      <td>490.0</td>\n",
       "      <td>150.0</td>\n",
       "      <td>visa</td>\n",
       "      <td>166.0</td>\n",
       "      <td>...</td>\n",
       "      <td>NaN</td>\n",
       "      <td>NaN</td>\n",
       "      <td>NaN</td>\n",
       "      <td>NaN</td>\n",
       "      <td>NaN</td>\n",
       "      <td>NaN</td>\n",
       "      <td>NaN</td>\n",
       "      <td>NaN</td>\n",
       "      <td>NaN</td>\n",
       "      <td>NaN</td>\n",
       "    </tr>\n",
       "    <tr>\n",
       "      <th>3</th>\n",
       "      <td>2987003</td>\n",
       "      <td>0</td>\n",
       "      <td>86499</td>\n",
       "      <td>50.0</td>\n",
       "      <td>W</td>\n",
       "      <td>18132</td>\n",
       "      <td>567.0</td>\n",
       "      <td>150.0</td>\n",
       "      <td>mastercard</td>\n",
       "      <td>117.0</td>\n",
       "      <td>...</td>\n",
       "      <td>NaN</td>\n",
       "      <td>NaN</td>\n",
       "      <td>NaN</td>\n",
       "      <td>NaN</td>\n",
       "      <td>NaN</td>\n",
       "      <td>NaN</td>\n",
       "      <td>NaN</td>\n",
       "      <td>NaN</td>\n",
       "      <td>NaN</td>\n",
       "      <td>NaN</td>\n",
       "    </tr>\n",
       "    <tr>\n",
       "      <th>4</th>\n",
       "      <td>2987004</td>\n",
       "      <td>0</td>\n",
       "      <td>86506</td>\n",
       "      <td>50.0</td>\n",
       "      <td>H</td>\n",
       "      <td>4497</td>\n",
       "      <td>514.0</td>\n",
       "      <td>150.0</td>\n",
       "      <td>mastercard</td>\n",
       "      <td>102.0</td>\n",
       "      <td>...</td>\n",
       "      <td>samsung browser 6.2</td>\n",
       "      <td>32.0</td>\n",
       "      <td>2220x1080</td>\n",
       "      <td>match_status:2</td>\n",
       "      <td>T</td>\n",
       "      <td>F</td>\n",
       "      <td>T</td>\n",
       "      <td>T</td>\n",
       "      <td>mobile</td>\n",
       "      <td>SAMSUNG SM-G892A Build/NRD90M</td>\n",
       "    </tr>\n",
       "  </tbody>\n",
       "</table>\n",
       "<p>5 rows × 434 columns</p>\n",
       "</div>"
      ],
      "text/plain": [
       "   TransactionID  isFraud  TransactionDT  TransactionAmt ProductCD  card1  \\\n",
       "0        2987000        0          86400            68.5         W  13926   \n",
       "1        2987001        0          86401            29.0         W   2755   \n",
       "2        2987002        0          86469            59.0         W   4663   \n",
       "3        2987003        0          86499            50.0         W  18132   \n",
       "4        2987004        0          86506            50.0         H   4497   \n",
       "\n",
       "   card2  card3       card4  card5              ...                \\\n",
       "0    NaN  150.0    discover  142.0              ...                 \n",
       "1  404.0  150.0  mastercard  102.0              ...                 \n",
       "2  490.0  150.0        visa  166.0              ...                 \n",
       "3  567.0  150.0  mastercard  117.0              ...                 \n",
       "4  514.0  150.0  mastercard  102.0              ...                 \n",
       "\n",
       "                 id_31  id_32      id_33           id_34  id_35 id_36 id_37  \\\n",
       "0                  NaN    NaN        NaN             NaN    NaN   NaN   NaN   \n",
       "1                  NaN    NaN        NaN             NaN    NaN   NaN   NaN   \n",
       "2                  NaN    NaN        NaN             NaN    NaN   NaN   NaN   \n",
       "3                  NaN    NaN        NaN             NaN    NaN   NaN   NaN   \n",
       "4  samsung browser 6.2   32.0  2220x1080  match_status:2      T     F     T   \n",
       "\n",
       "   id_38  DeviceType                     DeviceInfo  \n",
       "0    NaN         NaN                            NaN  \n",
       "1    NaN         NaN                            NaN  \n",
       "2    NaN         NaN                            NaN  \n",
       "3    NaN         NaN                            NaN  \n",
       "4      T      mobile  SAMSUNG SM-G892A Build/NRD90M  \n",
       "\n",
       "[5 rows x 434 columns]"
      ]
     },
     "execution_count": 3,
     "metadata": {},
     "output_type": "execute_result"
    }
   ],
   "source": [
    "print(\"Training data shape\", train.shape)\n",
    "print(\"Training data columns name\", list(train.columns))\n",
    "train.head()"
   ]
  },
  {
   "cell_type": "code",
   "execution_count": 4,
   "metadata": {},
   "outputs": [
    {
     "name": "stdout",
     "output_type": "stream",
     "text": [
      "Testing data shape (506691, 433)\n",
      "Testing data columns name ['TransactionID', 'TransactionDT', 'TransactionAmt', 'ProductCD', 'card1', 'card2', 'card3', 'card4', 'card5', 'card6', 'addr1', 'addr2', 'dist1', 'dist2', 'P_emaildomain', 'R_emaildomain', 'C1', 'C2', 'C3', 'C4', 'C5', 'C6', 'C7', 'C8', 'C9', 'C10', 'C11', 'C12', 'C13', 'C14', 'D1', 'D2', 'D3', 'D4', 'D5', 'D6', 'D7', 'D8', 'D9', 'D10', 'D11', 'D12', 'D13', 'D14', 'D15', 'M1', 'M2', 'M3', 'M4', 'M5', 'M6', 'M7', 'M8', 'M9', 'V1', 'V2', 'V3', 'V4', 'V5', 'V6', 'V7', 'V8', 'V9', 'V10', 'V11', 'V12', 'V13', 'V14', 'V15', 'V16', 'V17', 'V18', 'V19', 'V20', 'V21', 'V22', 'V23', 'V24', 'V25', 'V26', 'V27', 'V28', 'V29', 'V30', 'V31', 'V32', 'V33', 'V34', 'V35', 'V36', 'V37', 'V38', 'V39', 'V40', 'V41', 'V42', 'V43', 'V44', 'V45', 'V46', 'V47', 'V48', 'V49', 'V50', 'V51', 'V52', 'V53', 'V54', 'V55', 'V56', 'V57', 'V58', 'V59', 'V60', 'V61', 'V62', 'V63', 'V64', 'V65', 'V66', 'V67', 'V68', 'V69', 'V70', 'V71', 'V72', 'V73', 'V74', 'V75', 'V76', 'V77', 'V78', 'V79', 'V80', 'V81', 'V82', 'V83', 'V84', 'V85', 'V86', 'V87', 'V88', 'V89', 'V90', 'V91', 'V92', 'V93', 'V94', 'V95', 'V96', 'V97', 'V98', 'V99', 'V100', 'V101', 'V102', 'V103', 'V104', 'V105', 'V106', 'V107', 'V108', 'V109', 'V110', 'V111', 'V112', 'V113', 'V114', 'V115', 'V116', 'V117', 'V118', 'V119', 'V120', 'V121', 'V122', 'V123', 'V124', 'V125', 'V126', 'V127', 'V128', 'V129', 'V130', 'V131', 'V132', 'V133', 'V134', 'V135', 'V136', 'V137', 'V138', 'V139', 'V140', 'V141', 'V142', 'V143', 'V144', 'V145', 'V146', 'V147', 'V148', 'V149', 'V150', 'V151', 'V152', 'V153', 'V154', 'V155', 'V156', 'V157', 'V158', 'V159', 'V160', 'V161', 'V162', 'V163', 'V164', 'V165', 'V166', 'V167', 'V168', 'V169', 'V170', 'V171', 'V172', 'V173', 'V174', 'V175', 'V176', 'V177', 'V178', 'V179', 'V180', 'V181', 'V182', 'V183', 'V184', 'V185', 'V186', 'V187', 'V188', 'V189', 'V190', 'V191', 'V192', 'V193', 'V194', 'V195', 'V196', 'V197', 'V198', 'V199', 'V200', 'V201', 'V202', 'V203', 'V204', 'V205', 'V206', 'V207', 'V208', 'V209', 'V210', 'V211', 'V212', 'V213', 'V214', 'V215', 'V216', 'V217', 'V218', 'V219', 'V220', 'V221', 'V222', 'V223', 'V224', 'V225', 'V226', 'V227', 'V228', 'V229', 'V230', 'V231', 'V232', 'V233', 'V234', 'V235', 'V236', 'V237', 'V238', 'V239', 'V240', 'V241', 'V242', 'V243', 'V244', 'V245', 'V246', 'V247', 'V248', 'V249', 'V250', 'V251', 'V252', 'V253', 'V254', 'V255', 'V256', 'V257', 'V258', 'V259', 'V260', 'V261', 'V262', 'V263', 'V264', 'V265', 'V266', 'V267', 'V268', 'V269', 'V270', 'V271', 'V272', 'V273', 'V274', 'V275', 'V276', 'V277', 'V278', 'V279', 'V280', 'V281', 'V282', 'V283', 'V284', 'V285', 'V286', 'V287', 'V288', 'V289', 'V290', 'V291', 'V292', 'V293', 'V294', 'V295', 'V296', 'V297', 'V298', 'V299', 'V300', 'V301', 'V302', 'V303', 'V304', 'V305', 'V306', 'V307', 'V308', 'V309', 'V310', 'V311', 'V312', 'V313', 'V314', 'V315', 'V316', 'V317', 'V318', 'V319', 'V320', 'V321', 'V322', 'V323', 'V324', 'V325', 'V326', 'V327', 'V328', 'V329', 'V330', 'V331', 'V332', 'V333', 'V334', 'V335', 'V336', 'V337', 'V338', 'V339', 'id-01', 'id-02', 'id-03', 'id-04', 'id-05', 'id-06', 'id-07', 'id-08', 'id-09', 'id-10', 'id-11', 'id-12', 'id-13', 'id-14', 'id-15', 'id-16', 'id-17', 'id-18', 'id-19', 'id-20', 'id-21', 'id-22', 'id-23', 'id-24', 'id-25', 'id-26', 'id-27', 'id-28', 'id-29', 'id-30', 'id-31', 'id-32', 'id-33', 'id-34', 'id-35', 'id-36', 'id-37', 'id-38', 'DeviceType', 'DeviceInfo']\n"
     ]
    },
    {
     "data": {
      "text/html": [
       "<div>\n",
       "<style scoped>\n",
       "    .dataframe tbody tr th:only-of-type {\n",
       "        vertical-align: middle;\n",
       "    }\n",
       "\n",
       "    .dataframe tbody tr th {\n",
       "        vertical-align: top;\n",
       "    }\n",
       "\n",
       "    .dataframe thead th {\n",
       "        text-align: right;\n",
       "    }\n",
       "</style>\n",
       "<table border=\"1\" class=\"dataframe\">\n",
       "  <thead>\n",
       "    <tr style=\"text-align: right;\">\n",
       "      <th></th>\n",
       "      <th>TransactionID</th>\n",
       "      <th>isFraud</th>\n",
       "      <th>TransactionDT</th>\n",
       "      <th>TransactionAmt</th>\n",
       "      <th>ProductCD</th>\n",
       "      <th>card1</th>\n",
       "      <th>card2</th>\n",
       "      <th>card3</th>\n",
       "      <th>card4</th>\n",
       "      <th>card5</th>\n",
       "      <th>...</th>\n",
       "      <th>id_31</th>\n",
       "      <th>id_32</th>\n",
       "      <th>id_33</th>\n",
       "      <th>id_34</th>\n",
       "      <th>id_35</th>\n",
       "      <th>id_36</th>\n",
       "      <th>id_37</th>\n",
       "      <th>id_38</th>\n",
       "      <th>DeviceType</th>\n",
       "      <th>DeviceInfo</th>\n",
       "    </tr>\n",
       "  </thead>\n",
       "  <tbody>\n",
       "    <tr>\n",
       "      <th>0</th>\n",
       "      <td>2987000</td>\n",
       "      <td>0</td>\n",
       "      <td>86400</td>\n",
       "      <td>68.5</td>\n",
       "      <td>W</td>\n",
       "      <td>13926</td>\n",
       "      <td>NaN</td>\n",
       "      <td>150.0</td>\n",
       "      <td>discover</td>\n",
       "      <td>142.0</td>\n",
       "      <td>...</td>\n",
       "      <td>NaN</td>\n",
       "      <td>NaN</td>\n",
       "      <td>NaN</td>\n",
       "      <td>NaN</td>\n",
       "      <td>NaN</td>\n",
       "      <td>NaN</td>\n",
       "      <td>NaN</td>\n",
       "      <td>NaN</td>\n",
       "      <td>NaN</td>\n",
       "      <td>NaN</td>\n",
       "    </tr>\n",
       "    <tr>\n",
       "      <th>1</th>\n",
       "      <td>2987001</td>\n",
       "      <td>0</td>\n",
       "      <td>86401</td>\n",
       "      <td>29.0</td>\n",
       "      <td>W</td>\n",
       "      <td>2755</td>\n",
       "      <td>404.0</td>\n",
       "      <td>150.0</td>\n",
       "      <td>mastercard</td>\n",
       "      <td>102.0</td>\n",
       "      <td>...</td>\n",
       "      <td>NaN</td>\n",
       "      <td>NaN</td>\n",
       "      <td>NaN</td>\n",
       "      <td>NaN</td>\n",
       "      <td>NaN</td>\n",
       "      <td>NaN</td>\n",
       "      <td>NaN</td>\n",
       "      <td>NaN</td>\n",
       "      <td>NaN</td>\n",
       "      <td>NaN</td>\n",
       "    </tr>\n",
       "    <tr>\n",
       "      <th>2</th>\n",
       "      <td>2987002</td>\n",
       "      <td>0</td>\n",
       "      <td>86469</td>\n",
       "      <td>59.0</td>\n",
       "      <td>W</td>\n",
       "      <td>4663</td>\n",
       "      <td>490.0</td>\n",
       "      <td>150.0</td>\n",
       "      <td>visa</td>\n",
       "      <td>166.0</td>\n",
       "      <td>...</td>\n",
       "      <td>NaN</td>\n",
       "      <td>NaN</td>\n",
       "      <td>NaN</td>\n",
       "      <td>NaN</td>\n",
       "      <td>NaN</td>\n",
       "      <td>NaN</td>\n",
       "      <td>NaN</td>\n",
       "      <td>NaN</td>\n",
       "      <td>NaN</td>\n",
       "      <td>NaN</td>\n",
       "    </tr>\n",
       "    <tr>\n",
       "      <th>3</th>\n",
       "      <td>2987003</td>\n",
       "      <td>0</td>\n",
       "      <td>86499</td>\n",
       "      <td>50.0</td>\n",
       "      <td>W</td>\n",
       "      <td>18132</td>\n",
       "      <td>567.0</td>\n",
       "      <td>150.0</td>\n",
       "      <td>mastercard</td>\n",
       "      <td>117.0</td>\n",
       "      <td>...</td>\n",
       "      <td>NaN</td>\n",
       "      <td>NaN</td>\n",
       "      <td>NaN</td>\n",
       "      <td>NaN</td>\n",
       "      <td>NaN</td>\n",
       "      <td>NaN</td>\n",
       "      <td>NaN</td>\n",
       "      <td>NaN</td>\n",
       "      <td>NaN</td>\n",
       "      <td>NaN</td>\n",
       "    </tr>\n",
       "    <tr>\n",
       "      <th>4</th>\n",
       "      <td>2987004</td>\n",
       "      <td>0</td>\n",
       "      <td>86506</td>\n",
       "      <td>50.0</td>\n",
       "      <td>H</td>\n",
       "      <td>4497</td>\n",
       "      <td>514.0</td>\n",
       "      <td>150.0</td>\n",
       "      <td>mastercard</td>\n",
       "      <td>102.0</td>\n",
       "      <td>...</td>\n",
       "      <td>samsung browser 6.2</td>\n",
       "      <td>32.0</td>\n",
       "      <td>2220x1080</td>\n",
       "      <td>match_status:2</td>\n",
       "      <td>T</td>\n",
       "      <td>F</td>\n",
       "      <td>T</td>\n",
       "      <td>T</td>\n",
       "      <td>mobile</td>\n",
       "      <td>SAMSUNG SM-G892A Build/NRD90M</td>\n",
       "    </tr>\n",
       "  </tbody>\n",
       "</table>\n",
       "<p>5 rows × 434 columns</p>\n",
       "</div>"
      ],
      "text/plain": [
       "   TransactionID  isFraud  TransactionDT  TransactionAmt ProductCD  card1  \\\n",
       "0        2987000        0          86400            68.5         W  13926   \n",
       "1        2987001        0          86401            29.0         W   2755   \n",
       "2        2987002        0          86469            59.0         W   4663   \n",
       "3        2987003        0          86499            50.0         W  18132   \n",
       "4        2987004        0          86506            50.0         H   4497   \n",
       "\n",
       "   card2  card3       card4  card5              ...                \\\n",
       "0    NaN  150.0    discover  142.0              ...                 \n",
       "1  404.0  150.0  mastercard  102.0              ...                 \n",
       "2  490.0  150.0        visa  166.0              ...                 \n",
       "3  567.0  150.0  mastercard  117.0              ...                 \n",
       "4  514.0  150.0  mastercard  102.0              ...                 \n",
       "\n",
       "                 id_31  id_32      id_33           id_34  id_35 id_36 id_37  \\\n",
       "0                  NaN    NaN        NaN             NaN    NaN   NaN   NaN   \n",
       "1                  NaN    NaN        NaN             NaN    NaN   NaN   NaN   \n",
       "2                  NaN    NaN        NaN             NaN    NaN   NaN   NaN   \n",
       "3                  NaN    NaN        NaN             NaN    NaN   NaN   NaN   \n",
       "4  samsung browser 6.2   32.0  2220x1080  match_status:2      T     F     T   \n",
       "\n",
       "   id_38  DeviceType                     DeviceInfo  \n",
       "0    NaN         NaN                            NaN  \n",
       "1    NaN         NaN                            NaN  \n",
       "2    NaN         NaN                            NaN  \n",
       "3    NaN         NaN                            NaN  \n",
       "4      T      mobile  SAMSUNG SM-G892A Build/NRD90M  \n",
       "\n",
       "[5 rows x 434 columns]"
      ]
     },
     "execution_count": 4,
     "metadata": {},
     "output_type": "execute_result"
    }
   ],
   "source": [
    "print(\"Testing data shape\", test.shape)\n",
    "print(\"Testing data columns name\", list(test.columns))\n",
    "train.head()"
   ]
  },
  {
   "cell_type": "markdown",
   "metadata": {},
   "source": [
    "### Imbalance\n",
    "Imbalance label might cost our loss function and metrics working properly.\n",
    "There are something we can to:\n",
    "\n",
    "- 1. Oversampling\n",
    "- 2. Downsampling\n",
    "- 3. Some trick on the loss function \n",
    "\n",
    "In this demo we choose **3. Some trick on the loss function** which is we gonna put the scale_pos_weight on the loss function. It will help our model \"care\" the postive label more."
   ]
  },
  {
   "cell_type": "code",
   "execution_count": 5,
   "metadata": {},
   "outputs": [
    {
     "name": "stdout",
     "output_type": "stream",
     "text": [
      "isFraud ratio is 0.03499000914417313\n"
     ]
    }
   ],
   "source": [
    "print(\"isFraud ratio is {}\".format(sum(train[\"isFraud\"])/len(train)))"
   ]
  },
  {
   "cell_type": "code",
   "execution_count": 6,
   "metadata": {},
   "outputs": [
    {
     "name": "stdout",
     "output_type": "stream",
     "text": [
      "27.579586700866283\n"
     ]
    }
   ],
   "source": [
    "scale_pos_weight = (len(train) - sum(train[\"isFraud\"]))/sum(train[\"isFraud\"])\n",
    "print(scale_pos_weight)"
   ]
  },
  {
   "cell_type": "markdown",
   "metadata": {},
   "source": [
    "### Missing value \n",
    "- Drop the Missing Value\n",
    "    - Drop the row\n",
    "    - Drop the column\n",
    "- Fill the Missing Value\n",
    "    - Fill missing Value with average\n",
    "    - Use KNN, EM or some algorithm\n",
    "\n",
    "In this demo we choose **drop the columns** with missing value in training data. Although there are still some amount of data have missing value, but is acceptable. We also check the categorical data do not has huge different between training and testing. Finally we choose the feature as follow for modeling. \n",
    "- TransactionAmt\n",
    "- ProductCD\n",
    "- card1 \n",
    "- C1-C14\n",
    "\n",
    "> Note: Usually, we transform the time information into bucket like weekday_hour_0, weekend_hour_1, ... ,weekend_hour_0, weekend_hour_1, ... , but this dataset use the timedelta from a given reference datetime. It will cost huge effort to do the feature engineering therefore we drop the TransactionDT to make the data simpler."
   ]
  },
  {
   "cell_type": "code",
   "execution_count": 7,
   "metadata": {},
   "outputs": [],
   "source": [
    "# Get training missing value\n",
    "train_missing_value_ratio_list = []\n",
    "for key in train.columns:\n",
    "    try:\n",
    "        \n",
    "        missing_value_ratio = sum(np.isnan(train[key]))/len(train)\n",
    "        train_missing_value_ratio_list.append(missing_value_ratio)\n",
    "    except Exception as e:\n",
    "        missing_value_ratio = sum(list(train[key] == \"null\") and list(pd.isna(train[key])))/len(train)\n",
    "        train_missing_value_ratio_list.append(missing_value_ratio)"
   ]
  },
  {
   "cell_type": "code",
   "execution_count": 8,
   "metadata": {},
   "outputs": [],
   "source": [
    "# Get testing missing value\n",
    "test_missing_value_ratio_list = []\n",
    "for key in test.columns:\n",
    "    try:\n",
    "        missing_value_ratio = sum(np.isnan(test[key]))/len(test)\n",
    "        test_missing_value_ratio_list.append(missing_value_ratio)\n",
    "    except Exception as e:\n",
    "        missing_value_ratio = sum(list(test[key] == \"null\") and list(pd.isna(test[key])))/len(test)\n",
    "        test_missing_value_ratio_list.append(missing_value_ratio)"
   ]
  },
  {
   "cell_type": "code",
   "execution_count": 9,
   "metadata": {},
   "outputs": [],
   "source": [
    "# Get features list without missing value\n",
    "features_without_missing_value_in_train = list(train.columns[train_missing_value_ratio_list==np.float64(0)])\n",
    "features_without_missing_value_in_test = list(test.columns[test_missing_value_ratio_list==np.float64(0)])"
   ]
  },
  {
   "cell_type": "code",
   "execution_count": 10,
   "metadata": {},
   "outputs": [
    {
     "data": {
      "image/png": "[encoded data removed]",
      "text/plain": [
       "<Figure size 1152x648 with 2 Axes>"
      ]
     },
     "metadata": {},
     "output_type": "display_data"
    }
   ],
   "source": [
    "# Plot the histogram of missing value\n",
    "plt.figure(figsize=(16, 9))\n",
    "plt.subplot(1,2,1)\n",
    "plt.title(\"Training Data Missing Value Ratio\")\n",
    "plt.xlabel(\"Missing Value Ratio\")\n",
    "plt.ylabel(\"Count\")\n",
    "plt.hist(train_missing_value_ratio_list, bins=50)\n",
    "plt.subplot(1,2,2)\n",
    "plt.title(\"Testing Data Missing Value Ratio\")\n",
    "plt.xlabel(\"Missing Value Ratio\")\n",
    "plt.ylabel(\"Count\")\n",
    "plt.hist(test_missing_value_ratio_list, bins=50)\n",
    "plt.show()"
   ]
  },
  {
   "cell_type": "code",
   "execution_count": 11,
   "metadata": {},
   "outputs": [
    {
     "name": "stdout",
     "output_type": "stream",
     "text": [
      "There are 20 out of 434 features without missing value in training data\n",
      "There are 48 out of 433 features without missing value in testing data\n"
     ]
    }
   ],
   "source": [
    "# How many feature without the missing value\n",
    "print(\"There are {} out of {} features without missing value in training data\".format(len(features_without_missing_value_in_train), len(train.columns)))\n",
    "print(\"There are {} out of {} features without missing value in testing data\".format(len(features_without_missing_value_in_test), len(test.columns)))"
   ]
  },
  {
   "cell_type": "code",
   "execution_count": 12,
   "metadata": {},
   "outputs": [
    {
     "name": "stdout",
     "output_type": "stream",
     "text": [
      "The feature with out missing value in training are: \n",
      "['TransactionID', 'isFraud', 'TransactionDT', 'TransactionAmt', 'ProductCD', 'card1', 'C1', 'C2', 'C3', 'C4', 'C5', 'C6', 'C7', 'C8', 'C9', 'C10', 'C11', 'C12', 'C13', 'C14']\n",
      "\n",
      "The feature with out missing value in testing are: \n",
      "['TransactionID', 'TransactionDT', 'TransactionAmt', 'ProductCD', 'card1', 'V95', 'V96', 'V97', 'V98', 'V99', 'V100', 'V101', 'V102', 'V103', 'V104', 'V105', 'V106', 'V107', 'V108', 'V109', 'V110', 'V111', 'V112', 'V113', 'V114', 'V115', 'V116', 'V117', 'V118', 'V119', 'V120', 'V121', 'V122', 'V123', 'V124', 'V125', 'V126', 'V127', 'V128', 'V129', 'V130', 'V131', 'V132', 'V133', 'V134', 'V135', 'V136', 'V137']\n"
     ]
    }
   ],
   "source": [
    "# Show the feature with out missing value\n",
    "print(\"The feature with out missing value in training are: \")\n",
    "print(features_without_missing_value_in_train)\n",
    "print(\"\\nThe feature with out missing value in testing are: \")\n",
    "print(features_without_missing_value_in_test)"
   ]
  },
  {
   "cell_type": "code",
   "execution_count": 13,
   "metadata": {},
   "outputs": [
    {
     "name": "stdout",
     "output_type": "stream",
     "text": [
      "Feature TransactionID has 0.0 ratio of missing value in testing data\n",
      "Feature TransactionDT has 0.0 ratio of missing value in testing data\n",
      "Feature TransactionAmt has 0.0 ratio of missing value in testing data\n",
      "Feature ProductCD has 0.0 ratio of missing value in testing data\n",
      "Feature card1 has 0.0 ratio of missing value in testing data\n",
      "Feature C1 has 5.920768278891869e-06 ratio of missing value in testing data\n",
      "Feature C2 has 5.920768278891869e-06 ratio of missing value in testing data\n",
      "Feature C3 has 5.920768278891869e-06 ratio of missing value in testing data\n",
      "Feature C4 has 5.920768278891869e-06 ratio of missing value in testing data\n",
      "Feature C5 has 5.920768278891869e-06 ratio of missing value in testing data\n",
      "Feature C6 has 5.920768278891869e-06 ratio of missing value in testing data\n",
      "Feature C7 has 5.920768278891869e-06 ratio of missing value in testing data\n",
      "Feature C8 has 5.920768278891869e-06 ratio of missing value in testing data\n",
      "Feature C9 has 5.920768278891869e-06 ratio of missing value in testing data\n",
      "Feature C10 has 5.920768278891869e-06 ratio of missing value in testing data\n",
      "Feature C11 has 5.920768278891869e-06 ratio of missing value in testing data\n",
      "Feature C12 has 5.920768278891869e-06 ratio of missing value in testing data\n",
      "Feature C13 has 0.009370602596059532 ratio of missing value in testing data\n",
      "Feature C14 has 5.920768278891869e-06 ratio of missing value in testing data\n"
     ]
    }
   ],
   "source": [
    "# Cross check the training feature and testing feature \n",
    "for feature in features_without_missing_value_in_train:\n",
    "    if feature != \"isFraud\":\n",
    "        try:\n",
    "            missing_value_ratio = sum(np.isnan(test[feature]))/len(test)\n",
    "\n",
    "        except Exception as e:\n",
    "            missing_value_ratio = sum(list(test[feature] == \"null\") and list(pd.isna(test[feature])))/len(test)\n",
    "        finally:\n",
    "            print(\"Feature {} has {} ratio of missing value in testing data\".format(feature, missing_value_ratio))"
   ]
  },
  {
   "cell_type": "code",
   "execution_count": 14,
   "metadata": {},
   "outputs": [
    {
     "data": {
      "image/png": "[encoded data removed]",
      "text/plain": [
       "<Figure size 432x288 with 1 Axes>"
      ]
     },
     "metadata": {},
     "output_type": "display_data"
    }
   ],
   "source": [
    "# Check the categorical feature between train and test\n",
    "plt.title(\"Venn diagram for card1 categories between train and test\")\n",
    "venn2([set(train[\"card1\"]), set(test[\"card1\"])], set_labels=('Train Card1', 'Test Card1'))\n",
    "plt.show()"
   ]
  },
  {
   "cell_type": "code",
   "execution_count": 15,
   "metadata": {},
   "outputs": [
    {
     "data": {
      "image/png": "[encoded data removed]",
      "text/plain": [
       "<Figure size 432x288 with 1 Axes>"
      ]
     },
     "metadata": {},
     "output_type": "display_data"
    }
   ],
   "source": [
    "# Check the categorical feature between train and test\n",
    "plt.title(\"Venn diagram for ProductCD categories between train and test\")\n",
    "venn2([set(train[\"ProductCD\"]), set(test[\"ProductCD\"])], set_labels=('Train ProductCD', 'Test ProductCD'))\n",
    "plt.show()"
   ]
  },
  {
   "cell_type": "markdown",
   "metadata": {},
   "source": [
    "## Modeling\n",
    "We use the lightgbm to do the gradient boosting tree for our modeling part. Because above reason we choose the following feature for our modeling\n",
    "- TransactionAmt\n",
    "- ProductCD\n",
    "- card1 \n",
    "- C1-C14\n",
    "\n",
    "where card1 and ProductCD are categorical feature.\n",
    "\n",
    "> Note: Using the AUC metric for the imbalance data is very weird so that we put the average precision into the metrics. Average precision should be a better metric for model foucus more on differentiate the postive label which is our case."
   ]
  },
  {
   "cell_type": "markdown",
   "metadata": {},
   "source": [
    "### Feature engineering"
   ]
  },
  {
   "cell_type": "code",
   "execution_count": 16,
   "metadata": {},
   "outputs": [
    {
     "data": {
      "text/plain": [
       "15290"
      ]
     },
     "execution_count": 16,
     "metadata": {},
     "output_type": "execute_result"
    }
   ],
   "source": [
    "#### Choose feature\n",
    "all_train_x = train[\n",
    "        [\n",
    "            'TransactionAmt', \n",
    "            'ProductCD',\n",
    "            'card1', \n",
    "            'C1', \n",
    "            'C2', \n",
    "            'C3', \n",
    "            'C4', \n",
    "            'C5', \n",
    "            'C6', \n",
    "            'C7', \n",
    "            'C8', \n",
    "            'C9', \n",
    "            'C10', \n",
    "            'C11', \n",
    "            'C12', \n",
    "            'C13', \n",
    "            'C14']]\n",
    "all_train_y = train['isFraud']\n",
    "all_test_x = test[\n",
    "     [\n",
    "            'TransactionAmt', \n",
    "            'ProductCD',\n",
    "            'card1', \n",
    "            'C1', \n",
    "            'C2', \n",
    "            'C3', \n",
    "            'C4', \n",
    "            'C5', \n",
    "            'C6', \n",
    "            'C7', \n",
    "            'C8', \n",
    "            'C9', \n",
    "            'C10', \n",
    "            'C11', \n",
    "            'C12', \n",
    "            'C13', \n",
    "            'C14']]\n",
    "del train, test\n",
    "gc.collect()"
   ]
  },
  {
   "cell_type": "code",
   "execution_count": 17,
   "metadata": {},
   "outputs": [
    {
     "name": "stdout",
     "output_type": "stream",
     "text": [
      "Feature ProductCD has ['C', 'H', 'R', 'S', 'W']\n"
     ]
    }
   ],
   "source": [
    "# Encode string feature\n",
    "productCD_categories = list(np.unique(all_train_x['ProductCD']))\n",
    "print(\"Feature ProductCD has {}\".format(productCD_categories))\n",
    "all_train_x[\"ProductCD\"] = list(\n",
    "            map(lambda x: productCD_categories.index(x),  all_train_x[\"ProductCD\"]))\n",
    "all_test_x[\"ProductCD\"] = list(\n",
    "            map(lambda x: productCD_categories.index(x),  all_test_x[\"ProductCD\"]))"
   ]
  },
  {
   "cell_type": "code",
   "execution_count": 18,
   "metadata": {},
   "outputs": [],
   "source": [
    "# Train test split\n",
    "train_x, test_x, train_y, test_y = train_test_split(\n",
    "    all_train_x, all_train_y, test_size=0.3, random_state=42)"
   ]
  },
  {
   "cell_type": "code",
   "execution_count": 19,
   "metadata": {},
   "outputs": [],
   "source": [
    "# Put data in light gbm dataset\n",
    "lgb_train = lgb.Dataset(\n",
    "    train_x, \n",
    "    label=train_y,\n",
    "    categorical_feature=[\"card1\", \"ProductCD\"],\n",
    "    free_raw_data=False\n",
    ")\n",
    "lgb_test = lgb.Dataset(\n",
    "    test_x, \n",
    "    label=test_y,\n",
    "    categorical_feature=[\"card1\", \"ProductCD\"],\n",
    "    free_raw_data=False,\n",
    "    reference=lgb_train\n",
    ")"
   ]
  },
  {
   "cell_type": "code",
   "execution_count": 20,
   "metadata": {},
   "outputs": [],
   "source": [
    "# Define average_precision callback\n",
    "def eval_average_precision(y_pred, train_data):\n",
    "    \"\"\"\n",
    "    Fast auc eval function for lgb.\n",
    "    \"\"\"\n",
    "    y_true = train_data.get_label()\n",
    "    average_precision = average_precision_score(y_true, y_pred)\n",
    "    return 'average precision', average_precision, True"
   ]
  },
  {
   "cell_type": "markdown",
   "metadata": {},
   "source": [
    "### Fitting\n",
    "Lightgbm has a lot of hyperparams and tuning those hyperparams is a huge topic. We use the default params in this demo."
   ]
  },
  {
   "cell_type": "code",
   "execution_count": 21,
   "metadata": {},
   "outputs": [],
   "source": [
    "params = {}\n",
    "params['boosting_type'] = 'gbdt'\n",
    "params['objective'] = 'binary'\n",
    "params['metric'] = ['binary_logloss', 'auc']  \n",
    "params['verbose'] = 1\n",
    "params['scale_pos_weight'] = scale_pos_weight"
   ]
  },
  {
   "cell_type": "code",
   "execution_count": 22,
   "metadata": {},
   "outputs": [
    {
     "name": "stderr",
     "output_type": "stream",
     "text": [
      "/home/wu/.local/share/virtualenvs/lightgbm-project-demo-blx0_w_h/lib/python3.6/site-packages/lightgbm/basic.py:1291: UserWarning: Using categorical_feature in Dataset.\n",
      "  warnings.warn('Using categorical_feature in Dataset.')\n"
     ]
    },
    {
     "name": "stdout",
     "output_type": "stream",
     "text": [
      "[1]\tvalid_0's binary_logloss: 0.150402\tvalid_0's auc: 0.860566\tvalid_0's average precision: 0.244804\n",
      "[2]\tvalid_0's binary_logloss: 0.162477\tvalid_0's auc: 0.876924\tvalid_0's average precision: 0.297653\n",
      "[3]\tvalid_0's binary_logloss: 0.174524\tvalid_0's auc: 0.884873\tvalid_0's average precision: 0.330622\n",
      "[4]\tvalid_0's binary_logloss: 0.186519\tvalid_0's auc: 0.889787\tvalid_0's average precision: 0.344886\n",
      "[5]\tvalid_0's binary_logloss: 0.19865\tvalid_0's auc: 0.892906\tvalid_0's average precision: 0.352821\n",
      "[6]\tvalid_0's binary_logloss: 0.209919\tvalid_0's auc: 0.89557\tvalid_0's average precision: 0.367862\n",
      "[7]\tvalid_0's binary_logloss: 0.219572\tvalid_0's auc: 0.899518\tvalid_0's average precision: 0.390578\n",
      "[8]\tvalid_0's binary_logloss: 0.22751\tvalid_0's auc: 0.902794\tvalid_0's average precision: 0.411885\n",
      "[9]\tvalid_0's binary_logloss: 0.236153\tvalid_0's auc: 0.904923\tvalid_0's average precision: 0.427701\n",
      "[10]\tvalid_0's binary_logloss: 0.244121\tvalid_0's auc: 0.906914\tvalid_0's average precision: 0.439882\n",
      "[11]\tvalid_0's binary_logloss: 0.250685\tvalid_0's auc: 0.908737\tvalid_0's average precision: 0.457287\n",
      "[12]\tvalid_0's binary_logloss: 0.257579\tvalid_0's auc: 0.909671\tvalid_0's average precision: 0.468133\n",
      "[13]\tvalid_0's binary_logloss: 0.262917\tvalid_0's auc: 0.91137\tvalid_0's average precision: 0.477634\n",
      "[14]\tvalid_0's binary_logloss: 0.267224\tvalid_0's auc: 0.913058\tvalid_0's average precision: 0.489715\n",
      "[15]\tvalid_0's binary_logloss: 0.270995\tvalid_0's auc: 0.914699\tvalid_0's average precision: 0.496711\n",
      "[16]\tvalid_0's binary_logloss: 0.275503\tvalid_0's auc: 0.915568\tvalid_0's average precision: 0.505839\n",
      "[17]\tvalid_0's binary_logloss: 0.279032\tvalid_0's auc: 0.91652\tvalid_0's average precision: 0.511787\n",
      "[18]\tvalid_0's binary_logloss: 0.281418\tvalid_0's auc: 0.917808\tvalid_0's average precision: 0.518684\n",
      "[19]\tvalid_0's binary_logloss: 0.284791\tvalid_0's auc: 0.918456\tvalid_0's average precision: 0.5231\n",
      "[20]\tvalid_0's binary_logloss: 0.287394\tvalid_0's auc: 0.919049\tvalid_0's average precision: 0.526808\n",
      "[21]\tvalid_0's binary_logloss: 0.288985\tvalid_0's auc: 0.92006\tvalid_0's average precision: 0.53252\n",
      "[22]\tvalid_0's binary_logloss: 0.289826\tvalid_0's auc: 0.921231\tvalid_0's average precision: 0.5412\n",
      "[23]\tvalid_0's binary_logloss: 0.29065\tvalid_0's auc: 0.922191\tvalid_0's average precision: 0.544663\n",
      "[24]\tvalid_0's binary_logloss: 0.292145\tvalid_0's auc: 0.922705\tvalid_0's average precision: 0.548145\n",
      "[25]\tvalid_0's binary_logloss: 0.292684\tvalid_0's auc: 0.923551\tvalid_0's average precision: 0.554208\n",
      "[26]\tvalid_0's binary_logloss: 0.293559\tvalid_0's auc: 0.924142\tvalid_0's average precision: 0.557217\n",
      "[27]\tvalid_0's binary_logloss: 0.293848\tvalid_0's auc: 0.924854\tvalid_0's average precision: 0.561475\n",
      "[28]\tvalid_0's binary_logloss: 0.294122\tvalid_0's auc: 0.925374\tvalid_0's average precision: 0.563598\n",
      "[29]\tvalid_0's binary_logloss: 0.294706\tvalid_0's auc: 0.925777\tvalid_0's average precision: 0.566353\n",
      "[30]\tvalid_0's binary_logloss: 0.294812\tvalid_0's auc: 0.926269\tvalid_0's average precision: 0.568372\n",
      "[31]\tvalid_0's binary_logloss: 0.295131\tvalid_0's auc: 0.926687\tvalid_0's average precision: 0.572301\n",
      "[32]\tvalid_0's binary_logloss: 0.295448\tvalid_0's auc: 0.926936\tvalid_0's average precision: 0.574419\n",
      "[33]\tvalid_0's binary_logloss: 0.294975\tvalid_0's auc: 0.927418\tvalid_0's average precision: 0.576443\n",
      "[34]\tvalid_0's binary_logloss: 0.295242\tvalid_0's auc: 0.92759\tvalid_0's average precision: 0.576673\n",
      "[35]\tvalid_0's binary_logloss: 0.294402\tvalid_0's auc: 0.928171\tvalid_0's average precision: 0.579199\n",
      "[36]\tvalid_0's binary_logloss: 0.294006\tvalid_0's auc: 0.928614\tvalid_0's average precision: 0.581076\n",
      "[37]\tvalid_0's binary_logloss: 0.293248\tvalid_0's auc: 0.929071\tvalid_0's average precision: 0.583387\n",
      "[38]\tvalid_0's binary_logloss: 0.292898\tvalid_0's auc: 0.929452\tvalid_0's average precision: 0.585356\n",
      "[39]\tvalid_0's binary_logloss: 0.292739\tvalid_0's auc: 0.929607\tvalid_0's average precision: 0.586548\n",
      "[40]\tvalid_0's binary_logloss: 0.292703\tvalid_0's auc: 0.929762\tvalid_0's average precision: 0.587257\n",
      "[41]\tvalid_0's binary_logloss: 0.291787\tvalid_0's auc: 0.930133\tvalid_0's average precision: 0.589314\n",
      "[42]\tvalid_0's binary_logloss: 0.290982\tvalid_0's auc: 0.930561\tvalid_0's average precision: 0.591414\n",
      "[43]\tvalid_0's binary_logloss: 0.290306\tvalid_0's auc: 0.930907\tvalid_0's average precision: 0.592958\n",
      "[44]\tvalid_0's binary_logloss: 0.290011\tvalid_0's auc: 0.931084\tvalid_0's average precision: 0.594101\n",
      "[45]\tvalid_0's binary_logloss: 0.28893\tvalid_0's auc: 0.931471\tvalid_0's average precision: 0.595895\n",
      "[46]\tvalid_0's binary_logloss: 0.288219\tvalid_0's auc: 0.931689\tvalid_0's average precision: 0.596888\n",
      "[47]\tvalid_0's binary_logloss: 0.287342\tvalid_0's auc: 0.931887\tvalid_0's average precision: 0.598919\n",
      "[48]\tvalid_0's binary_logloss: 0.286753\tvalid_0's auc: 0.932108\tvalid_0's average precision: 0.600053\n",
      "[49]\tvalid_0's binary_logloss: 0.286179\tvalid_0's auc: 0.932297\tvalid_0's average precision: 0.60076\n",
      "[50]\tvalid_0's binary_logloss: 0.28515\tvalid_0's auc: 0.932588\tvalid_0's average precision: 0.602743\n",
      "[51]\tvalid_0's binary_logloss: 0.284796\tvalid_0's auc: 0.932565\tvalid_0's average precision: 0.602676\n",
      "[52]\tvalid_0's binary_logloss: 0.284364\tvalid_0's auc: 0.932648\tvalid_0's average precision: 0.603384\n",
      "[53]\tvalid_0's binary_logloss: 0.283624\tvalid_0's auc: 0.9329\tvalid_0's average precision: 0.604784\n",
      "[54]\tvalid_0's binary_logloss: 0.283108\tvalid_0's auc: 0.933038\tvalid_0's average precision: 0.605287\n",
      "[55]\tvalid_0's binary_logloss: 0.282521\tvalid_0's auc: 0.933198\tvalid_0's average precision: 0.606398\n",
      "[56]\tvalid_0's binary_logloss: 0.281785\tvalid_0's auc: 0.933354\tvalid_0's average precision: 0.607211\n",
      "[57]\tvalid_0's binary_logloss: 0.281183\tvalid_0's auc: 0.933513\tvalid_0's average precision: 0.607986\n",
      "[58]\tvalid_0's binary_logloss: 0.280254\tvalid_0's auc: 0.933772\tvalid_0's average precision: 0.609284\n",
      "[59]\tvalid_0's binary_logloss: 0.279704\tvalid_0's auc: 0.933819\tvalid_0's average precision: 0.60954\n",
      "[60]\tvalid_0's binary_logloss: 0.278937\tvalid_0's auc: 0.933966\tvalid_0's average precision: 0.609963\n",
      "[61]\tvalid_0's binary_logloss: 0.278502\tvalid_0's auc: 0.934054\tvalid_0's average precision: 0.610355\n",
      "[62]\tvalid_0's binary_logloss: 0.277982\tvalid_0's auc: 0.934166\tvalid_0's average precision: 0.611081\n",
      "[63]\tvalid_0's binary_logloss: 0.277573\tvalid_0's auc: 0.934279\tvalid_0's average precision: 0.612764\n",
      "[64]\tvalid_0's binary_logloss: 0.277011\tvalid_0's auc: 0.934407\tvalid_0's average precision: 0.613465\n",
      "[65]\tvalid_0's binary_logloss: 0.276087\tvalid_0's auc: 0.934762\tvalid_0's average precision: 0.614919\n",
      "[66]\tvalid_0's binary_logloss: 0.275688\tvalid_0's auc: 0.934703\tvalid_0's average precision: 0.615063\n",
      "[67]\tvalid_0's binary_logloss: 0.275125\tvalid_0's auc: 0.934788\tvalid_0's average precision: 0.615297\n",
      "[68]\tvalid_0's binary_logloss: 0.274719\tvalid_0's auc: 0.934808\tvalid_0's average precision: 0.615784\n",
      "[69]\tvalid_0's binary_logloss: 0.273865\tvalid_0's auc: 0.935071\tvalid_0's average precision: 0.616388\n",
      "[70]\tvalid_0's binary_logloss: 0.273374\tvalid_0's auc: 0.935125\tvalid_0's average precision: 0.616699\n",
      "[71]\tvalid_0's binary_logloss: 0.272695\tvalid_0's auc: 0.935264\tvalid_0's average precision: 0.617242\n",
      "[72]\tvalid_0's binary_logloss: 0.272438\tvalid_0's auc: 0.935286\tvalid_0's average precision: 0.617406\n",
      "[73]\tvalid_0's binary_logloss: 0.271608\tvalid_0's auc: 0.935537\tvalid_0's average precision: 0.618979\n",
      "[74]\tvalid_0's binary_logloss: 0.271097\tvalid_0's auc: 0.935625\tvalid_0's average precision: 0.619704\n",
      "[75]\tvalid_0's binary_logloss: 0.270516\tvalid_0's auc: 0.935707\tvalid_0's average precision: 0.619933\n",
      "[76]\tvalid_0's binary_logloss: 0.269843\tvalid_0's auc: 0.935907\tvalid_0's average precision: 0.620914\n",
      "[77]\tvalid_0's binary_logloss: 0.26919\tvalid_0's auc: 0.936057\tvalid_0's average precision: 0.621847\n",
      "[78]\tvalid_0's binary_logloss: 0.268659\tvalid_0's auc: 0.936141\tvalid_0's average precision: 0.622368\n",
      "[79]\tvalid_0's binary_logloss: 0.268221\tvalid_0's auc: 0.936245\tvalid_0's average precision: 0.622689\n",
      "[80]\tvalid_0's binary_logloss: 0.267791\tvalid_0's auc: 0.936271\tvalid_0's average precision: 0.622619\n",
      "[81]\tvalid_0's binary_logloss: 0.267145\tvalid_0's auc: 0.936474\tvalid_0's average precision: 0.62404\n",
      "[82]\tvalid_0's binary_logloss: 0.266896\tvalid_0's auc: 0.936473\tvalid_0's average precision: 0.624304\n",
      "[83]\tvalid_0's binary_logloss: 0.266605\tvalid_0's auc: 0.936477\tvalid_0's average precision: 0.624409\n"
     ]
    },
    {
     "name": "stdout",
     "output_type": "stream",
     "text": [
      "[84]\tvalid_0's binary_logloss: 0.266239\tvalid_0's auc: 0.936534\tvalid_0's average precision: 0.624602\n",
      "[85]\tvalid_0's binary_logloss: 0.265595\tvalid_0's auc: 0.936688\tvalid_0's average precision: 0.625889\n",
      "[86]\tvalid_0's binary_logloss: 0.265233\tvalid_0's auc: 0.936781\tvalid_0's average precision: 0.626121\n",
      "[87]\tvalid_0's binary_logloss: 0.264572\tvalid_0's auc: 0.936906\tvalid_0's average precision: 0.627088\n",
      "[88]\tvalid_0's binary_logloss: 0.264261\tvalid_0's auc: 0.936966\tvalid_0's average precision: 0.627747\n",
      "[89]\tvalid_0's binary_logloss: 0.263525\tvalid_0's auc: 0.937148\tvalid_0's average precision: 0.628608\n",
      "[90]\tvalid_0's binary_logloss: 0.26322\tvalid_0's auc: 0.937199\tvalid_0's average precision: 0.628878\n",
      "[91]\tvalid_0's binary_logloss: 0.26282\tvalid_0's auc: 0.93727\tvalid_0's average precision: 0.629161\n",
      "[92]\tvalid_0's binary_logloss: 0.262033\tvalid_0's auc: 0.937494\tvalid_0's average precision: 0.630083\n",
      "[93]\tvalid_0's binary_logloss: 0.261418\tvalid_0's auc: 0.937737\tvalid_0's average precision: 0.630605\n",
      "[94]\tvalid_0's binary_logloss: 0.261017\tvalid_0's auc: 0.937808\tvalid_0's average precision: 0.631032\n",
      "[95]\tvalid_0's binary_logloss: 0.260585\tvalid_0's auc: 0.937841\tvalid_0's average precision: 0.631309\n",
      "[96]\tvalid_0's binary_logloss: 0.259807\tvalid_0's auc: 0.938048\tvalid_0's average precision: 0.63237\n",
      "[97]\tvalid_0's binary_logloss: 0.259385\tvalid_0's auc: 0.938129\tvalid_0's average precision: 0.632962\n",
      "[98]\tvalid_0's binary_logloss: 0.258733\tvalid_0's auc: 0.938326\tvalid_0's average precision: 0.634162\n",
      "[99]\tvalid_0's binary_logloss: 0.25851\tvalid_0's auc: 0.93836\tvalid_0's average precision: 0.634348\n",
      "[100]\tvalid_0's binary_logloss: 0.258148\tvalid_0's auc: 0.93852\tvalid_0's average precision: 0.634786\n"
     ]
    }
   ],
   "source": [
    "bst = lgb.train(\n",
    "    params, \n",
    "    lgb_train, \n",
    "    valid_sets=lgb_test, \n",
    "    feval=eval_average_precision)"
   ]
  },
  {
   "cell_type": "code",
   "execution_count": 23,
   "metadata": {},
   "outputs": [
    {
     "name": "stdout",
     "output_type": "stream",
     "text": [
      "binary_logloss:  0.25814757120919196\n",
      "auc:  0.9385197969695341\n",
      "average precision:  0.634785645999415\n"
     ]
    }
   ],
   "source": [
    "# Metrics\n",
    "for k, v in bst.best_score[\"valid_0\"].items():\n",
    "    print(\"{}:  {}\".format(k,v))"
   ]
  },
  {
   "cell_type": "markdown",
   "metadata": {},
   "source": [
    "### Visualization for the model result"
   ]
  },
  {
   "cell_type": "code",
   "execution_count": 24,
   "metadata": {},
   "outputs": [
    {
     "data": {
      "image/png": "[encoded data removed]",
      "text/plain": [
       "<Figure size 432x288 with 1 Axes>"
      ]
     },
     "metadata": {},
     "output_type": "display_data"
    }
   ],
   "source": [
    "# Predictions histogram\n",
    "predictions = bst.predict(test_x)\n",
    "plt.title(\"Predictions Distribution\")\n",
    "plt.hist(predictions)\n",
    "plt.show()"
   ]
  },
  {
   "cell_type": "code",
   "execution_count": 25,
   "metadata": {},
   "outputs": [
    {
     "data": {
      "text/plain": [
       "array([0.26973744, 0.18031212, 0.0493499 , ..., 0.6320687 , 0.19751008,\n",
       "       0.03536405])"
      ]
     },
     "execution_count": 25,
     "metadata": {},
     "output_type": "execute_result"
    }
   ],
   "source": [
    "predictions"
   ]
  },
  {
   "cell_type": "code",
   "execution_count": 26,
   "metadata": {},
   "outputs": [
    {
     "data": {
      "image/png": "[encoded data removed]",
      "text/plain": [
       "<Figure size 432x288 with 2 Axes>"
      ]
     },
     "metadata": {},
     "output_type": "display_data"
    },
    {
     "name": "stdout",
     "output_type": "stream",
     "text": [
      "True Postive: 5317, True Negative 153424, False Postive: 17397, False Negative 1024\n"
     ]
    }
   ],
   "source": [
    "# Confusion matrix\n",
    "predictions_with_cutpoint = list(map(lambda x: 1 if x > 0.5 else 0, predictions))\n",
    "confusion_matrix_info = confusion_matrix(y_true=test_y, y_pred=predictions_with_cutpoint)\n",
    "tn, fp, fn, tp = confusion_matrix(y_true=test_y, y_pred=predictions_with_cutpoint).ravel()\n",
    "sns.heatmap(confusion_matrix_info, annot=True, fmt='g')\n",
    "plt.title(\"Confusion Matrix\")\n",
    "plt.xlabel(\"Predict Y\")\n",
    "plt.ylabel(\"True Y\")\n",
    "plt.show()\n",
    "\n",
    "print(\"True Postive: {}, True Negative {}, False Postive: {}, False Negative {}\".format(tp, tn, fp, fn))"
   ]
  },
  {
   "cell_type": "code",
   "execution_count": 27,
   "metadata": {},
   "outputs": [
    {
     "data": {
      "image/png": "[encoded data removed]",
      "text/plain": [
       "<Figure size 432x288 with 1 Axes>"
      ]
     },
     "metadata": {},
     "output_type": "display_data"
    }
   ],
   "source": [
    "# Roc curve\n",
    "fpr, tpr, _ = roc_curve(test_y, predictions)\n",
    "roc_auc = auc(fpr, tpr)\n",
    "\n",
    "plt.figure()\n",
    "lw = 2\n",
    "plt.plot(fpr, tpr, color='darkorange',\n",
    "         lw=lw, label='ROC curve (area = %0.2f)' % roc_auc)\n",
    "plt.plot([0, 1], [0, 1], color='navy', lw=lw, linestyle='--')\n",
    "plt.xlim([0.0, 1.0])\n",
    "plt.ylim([0.0, 1.05])\n",
    "plt.xlabel('False Positive Rate')\n",
    "plt.ylabel('True Positive Rate')\n",
    "plt.title('Receiver operating characteristic example')\n",
    "plt.legend(loc=\"lower right\")\n",
    "plt.show()"
   ]
  },
  {
   "cell_type": "code",
   "execution_count": 28,
   "metadata": {},
   "outputs": [
    {
     "name": "stdout",
     "output_type": "stream",
     "text": [
      "Lightgbm model: f1=0.366 auc=0.635\n"
     ]
    },
    {
     "data": {
      "image/png": "[encoded data removed]",
      "text/plain": [
       "<Figure size 432x288 with 1 Axes>"
      ]
     },
     "metadata": {},
     "output_type": "display_data"
    }
   ],
   "source": [
    "# Precision Recall Curve\n",
    "precision, recall, _ = precision_recall_curve(test_y, predictions)\n",
    "model_f1 = f1_score(test_y, predictions_with_cutpoint)\n",
    "model_auc = auc(recall, precision)\n",
    "\n",
    "# summarize scores\n",
    "print('Lightgbm model: f1=%.3f auc=%.3f' % (model_f1, model_auc))\n",
    "\n",
    "# plot the precision-recall curves\n",
    "plt.plot(recall, precision, marker='.', label='Lightgbm model')\n",
    "# axis labels\n",
    "plt.title(\"Precision-Recall Curve\")\n",
    "plt.xlabel('Recall')\n",
    "plt.ylabel('Precision')\n",
    "# show the legend\n",
    "plt.legend()\n",
    "# show the plot\n",
    "plt.show()"
   ]
  },
  {
   "cell_type": "markdown",
   "metadata": {},
   "source": [
    "## Make kaggle predictions"
   ]
  },
  {
   "cell_type": "code",
   "execution_count": 29,
   "metadata": {},
   "outputs": [],
   "source": [
    "kaggle_predictions = bst.predict(all_test_x)"
   ]
  },
  {
   "cell_type": "code",
   "execution_count": 30,
   "metadata": {},
   "outputs": [
    {
     "data": {
      "image/png": "[encoded data removed]",
      "text/plain": [
       "<Figure size 432x288 with 1 Axes>"
      ]
     },
     "metadata": {},
     "output_type": "display_data"
    }
   ],
   "source": [
    "# Predictions histogram\n",
    "plt.title(\"Kaggle Predictions Distribution\")\n",
    "plt.hist(kaggle_predictions)\n",
    "plt.show()"
   ]
  },
  {
   "cell_type": "code",
   "execution_count": 31,
   "metadata": {},
   "outputs": [],
   "source": [
    "# Write to csv\n",
    "sample_submission= pd.read_csv(\"../data/sample_submission.csv\")\n",
    "sample_submission[\"isFraud\"] = kaggle_predictions\n",
    "sample_submission.to_csv(\"/tmp/submission.csv\", index = False)"
   ]
  },
  {
   "cell_type": "code",
   "execution_count": 32,
   "metadata": {},
   "outputs": [
    {
     "data": {
      "image/png": "[encoded data removed]",
      "text/plain": [
       "<Figure size 1152x648 with 1 Axes>"
      ]
     },
     "metadata": {},
     "output_type": "display_data"
    }
   ],
   "source": [
    "# Submission result\n",
    "submission_result = mpimg.imread(\"../pictures/submission_result.png\") \n",
    "plt.figure(figsize=(16, 9))\n",
    "plt.imshow(submission_result)\n",
    "plt.axis('off') \n",
    "plt.show()"
   ]
  },
  {
   "cell_type": "markdown",
   "metadata": {},
   "source": [
    "## Reference\n",
    "- [EDA and models](https://www.kaggle.com/artgor/eda-and-models#General-information)\n",
    "- [kaggle discussion](https://www.kaggle.com/c/ieee-fraud-detection/discussion/101203)\n",
    "- [Confusion Matrix](https://medium.com/@dtuk81/confusion-matrix-visualization-fc31e3f30fea)\n",
    "- [Precision Recall Curve](https://machinelearningmastery.com/roc-curves-and-precision-recall-curves-for-classification-in-python/)"
   ]
  }
 ],
 "metadata": {
  "kernelspec": {
   "display_name": "Python 3",
   "language": "python",
   "name": "python3"
  },
  "language_info": {
   "codemirror_mode": {
    "name": "ipython",
    "version": 3
   },
   "file_extension": ".py",
   "mimetype": "text/x-python",
   "name": "python",
   "nbconvert_exporter": "python",
   "pygments_lexer": "ipython3",
   "version": "3.6.9"
  },
  "toc": {
   "base_numbering": 1,
   "nav_menu": {},
   "number_sections": true,
   "sideBar": true,
   "skip_h1_title": false,
   "title_cell": "Table of Contents",
   "title_sidebar": "Contents",
   "toc_cell": false,
   "toc_position": {
    "height": "calc(100% - 180px)",
    "left": "10px",
    "top": "150px",
    "width": "165px"
   },
   "toc_section_display": true,
   "toc_window_display": true
  }
 },
 "nbformat": 4,
 "nbformat_minor": 4
}
